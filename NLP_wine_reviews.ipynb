{
  "nbformat": 4,
  "nbformat_minor": 0,
  "metadata": {
    "colab": {
      "name": "NLP_wine-reviews.ipynb",
      "provenance": [],
      "toc_visible": true,
      "authorship_tag": "ABX9TyP58M5kunm9LEcw5LSDXW0x",
      "include_colab_link": true
    },
    "kernelspec": {
      "display_name": "Python 3",
      "name": "python3"
    },
    "language_info": {
      "name": "python"
    }
  },
  "cells": [
    {
      "cell_type": "markdown",
      "metadata": {
        "id": "view-in-github",
        "colab_type": "text"
      },
      "source": [
        "<a href=\"https://colab.research.google.com/github/dmitriygorlov/DS-practice/blob/main/NLP_wine_reviews.ipynb\" target=\"_parent\"><img src=\"https://colab.research.google.com/assets/colab-badge.svg\" alt=\"Open In Colab\"/></a>"
      ]
    },
    {
      "cell_type": "markdown",
      "metadata": {
        "id": "7WRw8qPOYlfK"
      },
      "source": [
        "# Описания задачи"
      ]
    },
    {
      "cell_type": "markdown",
      "metadata": {
        "id": "S2RMI2tLY2OD"
      },
      "source": [
        "Суть: узнать стоимость вина из рассказа сомелье\n",
        "\n",
        "Подробнее: вам подарили вино и расказали о нём со слов сомелье. Вы хотит понять насколько быть обрадованы подарку. Нужен сервис, куда вы сможете загрузить описание и оно выдаст стоимость вина.\n",
        "\n",
        "Оптимизировать будем по MSE - метрика больше штрафует за сильные отклонения (нам важно не принять дешевое вино за дорогое и наоборот, а вот ошибка в пару долларов нам не существенна)\n",
        "\n",
        "**ВАЖНО: ЦЕНА ВИНА НАТРЕНИРОВАНА ИМЕННО НА ДАННОМ ДАТАСЕТЕ**\n",
        "\n",
        "P.S. также в некоторых моделях нехваает максимального кол-ва итераций, но увеличивать на таком разнообразии было слишком долго"
      ]
    },
    {
      "cell_type": "markdown",
      "metadata": {
        "id": "iGGN0y5wNJeW"
      },
      "source": [
        "# План исследования"
      ]
    },
    {
      "cell_type": "markdown",
      "metadata": {
        "id": "1wTfHIIfNPJo"
      },
      "source": [
        "- Загрузка данных\n",
        "- Построение моделей с помощью TF-IDF\n",
        "  - Простые модели\n",
        "  - Модели с подобраннми гиперпараметрами\n",
        "- Построение моделей с помощью TF-IDF (с предварительной лемматизацией)\n",
        "  - Простые модели\n",
        "  - Модели с подобраннми гиперпараметрами\n",
        "- Вывод"
      ]
    },
    {
      "cell_type": "code",
      "metadata": {
        "colab": {
          "base_uri": "https://localhost:8080/"
        },
        "id": "6o9TCVPiiddQ",
        "outputId": "ea2ae508-37d0-4504-8677-fb609bc93d7e"
      },
      "source": [
        "# math and dataframe\n",
        "import pandas as pd\n",
        "import numpy as np\n",
        "\n",
        "# деление, кросс, тюнинг\n",
        "from sklearn.model_selection import train_test_split, cross_val_score, RandomizedSearchCV\n",
        "\n",
        "# для TF-idf\n",
        "import nltk\n",
        "nltk.download('stopwords')\n",
        "from nltk.corpus import stopwords as nltk_stopwords\n",
        "stopwords = set(nltk_stopwords.words('english'))\n",
        "from sklearn.feature_extraction.text import TfidfVectorizer\n",
        "\n",
        "# для лемматизации\n",
        "import re\n",
        "nltk.download('wordnet')\n",
        "from nltk.stem import WordNetLemmatizer \n",
        "from nltk.corpus import wordnet\n",
        "nltk.download('punkt')\n",
        "nltk.download('averaged_perceptron_tagger')\n",
        "\n",
        "# Модели и метрики\n",
        "from sklearn.linear_model import LinearRegression, Lasso, Ridge, SGDRegressor\n",
        "from lightgbm import LGBMRegressor\n",
        "from sklearn.metrics import r2_score, mean_absolute_error, mean_squared_error\n",
        "\n",
        "\n",
        "rnd = 12345"
      ],
      "execution_count": 1,
      "outputs": [
        {
          "output_type": "stream",
          "name": "stdout",
          "text": [
            "[nltk_data] Downloading package stopwords to /root/nltk_data...\n",
            "[nltk_data]   Unzipping corpora/stopwords.zip.\n",
            "[nltk_data] Downloading package wordnet to /root/nltk_data...\n",
            "[nltk_data]   Unzipping corpora/wordnet.zip.\n",
            "[nltk_data] Downloading package punkt to /root/nltk_data...\n",
            "[nltk_data]   Unzipping tokenizers/punkt.zip.\n",
            "[nltk_data] Downloading package averaged_perceptron_tagger to\n",
            "[nltk_data]     /root/nltk_data...\n",
            "[nltk_data]   Unzipping taggers/averaged_perceptron_tagger.zip.\n"
          ]
        }
      ]
    },
    {
      "cell_type": "markdown",
      "metadata": {
        "id": "osfbBCm4Yyfm"
      },
      "source": [
        "# Загрузка и предобработка данных"
      ]
    },
    {
      "cell_type": "markdown",
      "metadata": {
        "id": "jNGGM0Wxcy8D"
      },
      "source": [
        "Возьмём данные из прекрасного датасета [Wine reviews](https://www.kaggle.com/zynicide/wine-reviews?select=winemag-data_first150k.csv). Для простоты скопировал данные на Drive\n",
        "\n",
        "https://drive.google.com/file/d/1uGSYndd57lPLebTts3mXJzzvG3rK08kq/view?usp=sharing"
      ]
    },
    {
      "cell_type": "code",
      "metadata": {
        "colab": {
          "base_uri": "https://localhost:8080/"
        },
        "id": "UwIbCdGE-gQ0",
        "outputId": "124868c9-98f4-416d-833d-9bc03ca12c29"
      },
      "source": [
        "! gdown --id 1uGSYndd57lPLebTts3mXJzzvG3rK08kq"
      ],
      "execution_count": 2,
      "outputs": [
        {
          "output_type": "stream",
          "name": "stdout",
          "text": [
            "Downloading...\n",
            "From: https://drive.google.com/uc?id=1uGSYndd57lPLebTts3mXJzzvG3rK08kq\n",
            "To: /content/winemag-data_first150k.csv.zip\n",
            "100% 17.5M/17.5M [00:00<00:00, 65.9MB/s]\n"
          ]
        }
      ]
    },
    {
      "cell_type": "code",
      "metadata": {
        "colab": {
          "base_uri": "https://localhost:8080/"
        },
        "id": "IxOx_GtCyrir",
        "outputId": "c4be3224-303b-4c3f-b989-c26b90d832b8"
      },
      "source": [
        "!unzip '/content/winemag-data_first150k.csv.zip' -d '/content/wine/'"
      ],
      "execution_count": 3,
      "outputs": [
        {
          "output_type": "stream",
          "name": "stdout",
          "text": [
            "Archive:  /content/winemag-data_first150k.csv.zip\n",
            "  inflating: /content/wine/winemag-data_first150k.csv  \n"
          ]
        }
      ]
    },
    {
      "cell_type": "code",
      "metadata": {
        "colab": {
          "base_uri": "https://localhost:8080/",
          "height": 663
        },
        "id": "1KPA00OtgKwF",
        "outputId": "5407aa1c-2ae4-485f-8d3f-e2df83ec541f"
      },
      "source": [
        "data = pd.read_csv('/content/wine/winemag-data_first150k.csv', index_col=0)\n",
        "\n",
        "display(data.head())\n",
        "data.info()"
      ],
      "execution_count": 4,
      "outputs": [
        {
          "output_type": "display_data",
          "data": {
            "text/html": [
              "<div>\n",
              "<style scoped>\n",
              "    .dataframe tbody tr th:only-of-type {\n",
              "        vertical-align: middle;\n",
              "    }\n",
              "\n",
              "    .dataframe tbody tr th {\n",
              "        vertical-align: top;\n",
              "    }\n",
              "\n",
              "    .dataframe thead th {\n",
              "        text-align: right;\n",
              "    }\n",
              "</style>\n",
              "<table border=\"1\" class=\"dataframe\">\n",
              "  <thead>\n",
              "    <tr style=\"text-align: right;\">\n",
              "      <th></th>\n",
              "      <th>country</th>\n",
              "      <th>description</th>\n",
              "      <th>designation</th>\n",
              "      <th>points</th>\n",
              "      <th>price</th>\n",
              "      <th>province</th>\n",
              "      <th>region_1</th>\n",
              "      <th>region_2</th>\n",
              "      <th>variety</th>\n",
              "      <th>winery</th>\n",
              "    </tr>\n",
              "  </thead>\n",
              "  <tbody>\n",
              "    <tr>\n",
              "      <th>0</th>\n",
              "      <td>US</td>\n",
              "      <td>This tremendous 100% varietal wine hails from ...</td>\n",
              "      <td>Martha's Vineyard</td>\n",
              "      <td>96</td>\n",
              "      <td>235.0</td>\n",
              "      <td>California</td>\n",
              "      <td>Napa Valley</td>\n",
              "      <td>Napa</td>\n",
              "      <td>Cabernet Sauvignon</td>\n",
              "      <td>Heitz</td>\n",
              "    </tr>\n",
              "    <tr>\n",
              "      <th>1</th>\n",
              "      <td>Spain</td>\n",
              "      <td>Ripe aromas of fig, blackberry and cassis are ...</td>\n",
              "      <td>Carodorum Selección Especial Reserva</td>\n",
              "      <td>96</td>\n",
              "      <td>110.0</td>\n",
              "      <td>Northern Spain</td>\n",
              "      <td>Toro</td>\n",
              "      <td>NaN</td>\n",
              "      <td>Tinta de Toro</td>\n",
              "      <td>Bodega Carmen Rodríguez</td>\n",
              "    </tr>\n",
              "    <tr>\n",
              "      <th>2</th>\n",
              "      <td>US</td>\n",
              "      <td>Mac Watson honors the memory of a wine once ma...</td>\n",
              "      <td>Special Selected Late Harvest</td>\n",
              "      <td>96</td>\n",
              "      <td>90.0</td>\n",
              "      <td>California</td>\n",
              "      <td>Knights Valley</td>\n",
              "      <td>Sonoma</td>\n",
              "      <td>Sauvignon Blanc</td>\n",
              "      <td>Macauley</td>\n",
              "    </tr>\n",
              "    <tr>\n",
              "      <th>3</th>\n",
              "      <td>US</td>\n",
              "      <td>This spent 20 months in 30% new French oak, an...</td>\n",
              "      <td>Reserve</td>\n",
              "      <td>96</td>\n",
              "      <td>65.0</td>\n",
              "      <td>Oregon</td>\n",
              "      <td>Willamette Valley</td>\n",
              "      <td>Willamette Valley</td>\n",
              "      <td>Pinot Noir</td>\n",
              "      <td>Ponzi</td>\n",
              "    </tr>\n",
              "    <tr>\n",
              "      <th>4</th>\n",
              "      <td>France</td>\n",
              "      <td>This is the top wine from La Bégude, named aft...</td>\n",
              "      <td>La Brûlade</td>\n",
              "      <td>95</td>\n",
              "      <td>66.0</td>\n",
              "      <td>Provence</td>\n",
              "      <td>Bandol</td>\n",
              "      <td>NaN</td>\n",
              "      <td>Provence red blend</td>\n",
              "      <td>Domaine de la Bégude</td>\n",
              "    </tr>\n",
              "  </tbody>\n",
              "</table>\n",
              "</div>"
            ],
            "text/plain": [
              "  country  ...                   winery\n",
              "0      US  ...                    Heitz\n",
              "1   Spain  ...  Bodega Carmen Rodríguez\n",
              "2      US  ...                 Macauley\n",
              "3      US  ...                    Ponzi\n",
              "4  France  ...     Domaine de la Bégude\n",
              "\n",
              "[5 rows x 10 columns]"
            ]
          },
          "metadata": {}
        },
        {
          "output_type": "stream",
          "name": "stdout",
          "text": [
            "<class 'pandas.core.frame.DataFrame'>\n",
            "Int64Index: 150930 entries, 0 to 150929\n",
            "Data columns (total 10 columns):\n",
            " #   Column       Non-Null Count   Dtype  \n",
            "---  ------       --------------   -----  \n",
            " 0   country      150925 non-null  object \n",
            " 1   description  150930 non-null  object \n",
            " 2   designation  105195 non-null  object \n",
            " 3   points       150930 non-null  int64  \n",
            " 4   price        137235 non-null  float64\n",
            " 5   province     150925 non-null  object \n",
            " 6   region_1     125870 non-null  object \n",
            " 7   region_2     60953 non-null   object \n",
            " 8   variety      150930 non-null  object \n",
            " 9   winery       150930 non-null  object \n",
            "dtypes: float64(1), int64(1), object(8)\n",
            "memory usage: 12.7+ MB\n"
          ]
        }
      ]
    },
    {
      "cell_type": "markdown",
      "metadata": {
        "id": "lT8nOmAyUWAO"
      },
      "source": [
        "Итак, у нас есть 150930 строк со следующими столбцами:\n",
        "- 'country' (страна), \n",
        "- 'description' (описание) - это наш источник информации. Пропусков нет., \n",
        "- 'designation' (обозначение виноградника), \n",
        "- 'points' (баллы),\n",
        "- 'price' (цена) - это наш целевой показатель. Есть много пропусков, \n",
        "- 'province' (провинция),\n",
        "- 'region_1' (регион), \n",
        "- 'region_2' (регион уточнение), \n",
        "- 'variety' (тип винограда),  \n",
        "- 'winery' (винодельня)."
      ]
    },
    {
      "cell_type": "code",
      "metadata": {
        "colab": {
          "base_uri": "https://localhost:8080/"
        },
        "id": "4GyHF2rRgZzc",
        "outputId": "ab3cc3ba-093f-497f-8346-492dafc17681"
      },
      "source": [
        "df = data[['description', 'price']].dropna()\n",
        "df.info()"
      ],
      "execution_count": 5,
      "outputs": [
        {
          "output_type": "stream",
          "name": "stdout",
          "text": [
            "<class 'pandas.core.frame.DataFrame'>\n",
            "Int64Index: 137235 entries, 0 to 150929\n",
            "Data columns (total 2 columns):\n",
            " #   Column       Non-Null Count   Dtype  \n",
            "---  ------       --------------   -----  \n",
            " 0   description  137235 non-null  object \n",
            " 1   price        137235 non-null  float64\n",
            "dtypes: float64(1), object(1)\n",
            "memory usage: 3.1+ MB\n"
          ]
        }
      ]
    },
    {
      "cell_type": "code",
      "metadata": {
        "colab": {
          "base_uri": "https://localhost:8080/"
        },
        "id": "Z1gnKNNbgrdU",
        "outputId": "197a6bf1-4fe2-4d81-d98d-d638f4a2d57e"
      },
      "source": [
        "mini_df = df.sample(20000)\n",
        "mini_df.info()"
      ],
      "execution_count": 6,
      "outputs": [
        {
          "output_type": "stream",
          "name": "stdout",
          "text": [
            "<class 'pandas.core.frame.DataFrame'>\n",
            "Int64Index: 20000 entries, 120166 to 124016\n",
            "Data columns (total 2 columns):\n",
            " #   Column       Non-Null Count  Dtype  \n",
            "---  ------       --------------  -----  \n",
            " 0   description  20000 non-null  object \n",
            " 1   price        20000 non-null  float64\n",
            "dtypes: float64(1), object(1)\n",
            "memory usage: 468.8+ KB\n"
          ]
        }
      ]
    },
    {
      "cell_type": "code",
      "metadata": {
        "colab": {
          "base_uri": "https://localhost:8080/"
        },
        "id": "2u6NuBfGOcyi",
        "outputId": "15691650-a657-477e-cc03-2399c7b514e7"
      },
      "source": [
        "mini_df.price.describe()"
      ],
      "execution_count": 7,
      "outputs": [
        {
          "output_type": "execute_result",
          "data": {
            "text/plain": [
              "count    20000.00000\n",
              "mean        33.09025\n",
              "std         39.27542\n",
              "min          4.00000\n",
              "25%         16.00000\n",
              "50%         24.00000\n",
              "75%         40.00000\n",
              "max       2300.00000\n",
              "Name: price, dtype: float64"
            ]
          },
          "metadata": {},
          "execution_count": 7
        }
      ]
    },
    {
      "cell_type": "code",
      "metadata": {
        "colab": {
          "base_uri": "https://localhost:8080/",
          "height": 282
        },
        "id": "e4-iGpDOO7wF",
        "outputId": "919ba8a0-b2dd-4c17-a557-b6c16a03b58b"
      },
      "source": [
        "bins = int((mini_df.price.max() - mini_df.price.min())/5)\n",
        "mini_df.price.hist(bins= bins)"
      ],
      "execution_count": 8,
      "outputs": [
        {
          "output_type": "execute_result",
          "data": {
            "text/plain": [
              "<matplotlib.axes._subplots.AxesSubplot at 0x7fcd32ecd8d0>"
            ]
          },
          "metadata": {},
          "execution_count": 8
        },
        {
          "output_type": "display_data",
          "data": {
            "image/png": "[encoded data removed]",
            "text/plain": [
              "<Figure size 432x288 with 1 Axes>"
            ]
          },
          "metadata": {
            "needs_background": "light"
          }
        }
      ]
    },
    {
      "cell_type": "markdown",
      "metadata": {
        "id": "tGEtVW-yO6kc"
      },
      "source": [
        "Как мы видим, в наборе данных есть как очень дорогие ценники (выбросы), так и небольшие. только четверть вина стоит больше 40 долларов."
      ]
    },
    {
      "cell_type": "code",
      "metadata": {
        "id": "Tz6zPkGsR-QY"
      },
      "source": [
        "lemmatizer = WordNetLemmatizer()\n",
        "\n",
        "def get_wordnet_pos(word):\n",
        "    \"\"\"Map POS tag to first character lemmatize() accepts\"\"\"\n",
        "    tag = nltk.pos_tag([word])[0][1][0].upper()\n",
        "    tag_dict = {\"J\": wordnet.ADJ,\n",
        "                \"N\": wordnet.NOUN,\n",
        "                \"V\": wordnet.VERB,\n",
        "                \"R\": wordnet.ADV}\n",
        "    return tag_dict.get(tag, wordnet.NOUN)\n",
        "\n",
        "def clear_lemm_text_word(text):\n",
        "    filtro = re.sub(r'[^a-zA-Z]', ' ', str(text))\n",
        "    splito = filtro.split()\n",
        "    # clearo = ' '.join(splito)\n",
        "    lemm_list = list()\n",
        "    for w in nltk.word_tokenize(' '.join(splito)):\n",
        "        lemmm_uno = lemmatizer.lemmatize(w, get_wordnet_pos(w))\n",
        "        lemm_list.append(lemmm_uno)\n",
        "    lemm_text = ' '.join(lemm_list)\n",
        "    return lemm_text"
      ],
      "execution_count": 9,
      "outputs": []
    },
    {
      "cell_type": "code",
      "metadata": {
        "id": "z6by8-lyW9Fd"
      },
      "source": [
        "mini_df['description_lemm'] = mini_df['description'].apply(clear_lemm_text_word)"
      ],
      "execution_count": 10,
      "outputs": []
    },
    {
      "cell_type": "code",
      "metadata": {
        "id": "BZzTlOwTvlZ8"
      },
      "source": [
        "train, test = train_test_split(mini_df, test_size = 0.25, random_state = rnd)"
      ],
      "execution_count": 11,
      "outputs": []
    },
    {
      "cell_type": "markdown",
      "metadata": {
        "id": "TygAfnHxPlRE"
      },
      "source": [
        "# Простой TF-IDF"
      ]
    },
    {
      "cell_type": "code",
      "metadata": {
        "id": "ugaxq2TDvx7o"
      },
      "source": [
        "X_train = train['description']\n",
        "X_test = test['description']\n",
        "y_train = train['price']\n",
        "y_test = test['price']"
      ],
      "execution_count": 12,
      "outputs": []
    },
    {
      "cell_type": "code",
      "metadata": {
        "colab": {
          "base_uri": "https://localhost:8080/"
        },
        "id": "hAsCMyRBhsoL",
        "outputId": "a37c6824-4a97-47cb-8ddd-0167f92cc016"
      },
      "source": [
        "count_tf_idf1 = TfidfVectorizer(stop_words=stopwords, ngram_range=(1, 2)) \n",
        "\n",
        "tf_idf_train = count_tf_idf1.fit_transform(X_train)\n",
        "tf_idf_test = count_tf_idf1.transform(X_test)\n",
        "\n",
        "print('Размер train:', tf_idf_train.shape)\n",
        "print('Размер test:', tf_idf_test.shape)"
      ],
      "execution_count": 13,
      "outputs": [
        {
          "output_type": "stream",
          "name": "stdout",
          "text": [
            "Размер train: (15000, 192182)\n",
            "Размер test: (5000, 192182)\n"
          ]
        }
      ]
    },
    {
      "cell_type": "markdown",
      "metadata": {
        "id": "B1F6D2Y1c-F7"
      },
      "source": [
        "## Просто модели"
      ]
    },
    {
      "cell_type": "code",
      "metadata": {
        "id": "RI6sX5eCw09h"
      },
      "source": [
        "simple_results = pd.DataFrame(columns=['Train_r2', 'Test_r2', 'Test_MSE', 'Test_MAE'])\n",
        "models = {}\n",
        "def simple_model(model_name, model, cv = 4, score = 'r2', back = False, show=True, lemm=False,\n",
        "                 X_train = tf_idf_train, y_train = y_train, X_test = tf_idf_test, y_test = y_test):\n",
        "  print(model_name, '\\n')\n",
        "  model.fit(X_train, y_train)\n",
        "\n",
        "  train_score = cross_val_score(model, \n",
        "                        X_train, \n",
        "                        y_train, \n",
        "                        cv=cv,\n",
        "                        scoring=score).mean().round(3)\n",
        "  if show==True:\n",
        "    print(f'Model params: \\n{model}')\n",
        "    print(f'Train_cv {score}: {train_score}')\n",
        "\n",
        "    y_pred = model.predict(X_test)\n",
        "    r2 = r2_score(y_test, y_pred).round(3)\n",
        "    mae = mean_absolute_error(y_test, y_pred).round(1)\n",
        "    mse = mean_squared_error(y_test, y_pred).round(1)\n",
        "    print('Test results',\n",
        "        f'R2 score: {r2} \\nMSE: {mse} \\nMAE: {mae}', sep = '\\n')\n",
        "    simple_results.loc[model_name] = [train_score, r2, mse, mae]\n",
        "  if lemm == True:\n",
        "    models['lemm+tf-idf' + 'simple' + model_name] = model\n",
        "  else:\n",
        "    models['tf-idf', 'simple', model_name] = model\n",
        "  if back == True:\n",
        "    return model"
      ],
      "execution_count": 14,
      "outputs": []
    },
    {
      "cell_type": "code",
      "metadata": {
        "colab": {
          "base_uri": "https://localhost:8080/"
        },
        "id": "QBzK_TuAmIj1",
        "outputId": "a21d184e-9a83-488e-a1de-4912f27cb7b0"
      },
      "source": [
        "simple_model('LinearRegression', LinearRegression(n_jobs=-1))"
      ],
      "execution_count": 15,
      "outputs": [
        {
          "output_type": "stream",
          "name": "stdout",
          "text": [
            "LinearRegression \n",
            "\n",
            "Model params: \n",
            "LinearRegression(copy_X=True, fit_intercept=True, n_jobs=-1, normalize=False)\n",
            "Train_cv r2: 0.176\n",
            "Test results\n",
            "R2 score: 0.179 \n",
            "MSE: 1224.3 \n",
            "MAE: 17.2\n"
          ]
        }
      ]
    },
    {
      "cell_type": "code",
      "metadata": {
        "colab": {
          "base_uri": "https://localhost:8080/"
        },
        "id": "SJY_2BvMk6iT",
        "outputId": "aabab696-19d4-4cbe-be60-9a061b2b1925"
      },
      "source": [
        "simple_model('Lasso', Lasso(random_state=rnd))"
      ],
      "execution_count": 16,
      "outputs": [
        {
          "output_type": "stream",
          "name": "stdout",
          "text": [
            "Lasso \n",
            "\n",
            "Model params: \n",
            "Lasso(alpha=1.0, copy_X=True, fit_intercept=True, max_iter=1000,\n",
            "      normalize=False, positive=False, precompute=False, random_state=12345,\n",
            "      selection='cyclic', tol=0.0001, warm_start=False)\n",
            "Train_cv r2: -0.001\n",
            "Test results\n",
            "R2 score: -0.0 \n",
            "MSE: 1490.7 \n",
            "MAE: 19.2\n"
          ]
        }
      ]
    },
    {
      "cell_type": "code",
      "metadata": {
        "colab": {
          "base_uri": "https://localhost:8080/"
        },
        "id": "EXGiF_ECluRM",
        "outputId": "985347cf-a41f-47a9-f8ea-ed113414ed4d"
      },
      "source": [
        "simple_model('Ridge', Ridge(random_state=rnd))"
      ],
      "execution_count": 17,
      "outputs": [
        {
          "output_type": "stream",
          "name": "stdout",
          "text": [
            "Ridge \n",
            "\n",
            "Model params: \n",
            "Ridge(alpha=1.0, copy_X=True, fit_intercept=True, max_iter=None,\n",
            "      normalize=False, random_state=12345, solver='auto', tol=0.001)\n",
            "Train_cv r2: 0.2\n",
            "Test results\n",
            "R2 score: 0.245 \n",
            "MSE: 1124.9 \n",
            "MAE: 15.5\n"
          ]
        }
      ]
    },
    {
      "cell_type": "code",
      "metadata": {
        "colab": {
          "base_uri": "https://localhost:8080/"
        },
        "id": "5aBxbuYI0Anq",
        "outputId": "af9061d2-0e93-4b51-98ca-b2273baffc56"
      },
      "source": [
        "simple_model('SGDRegressor', SGDRegressor(random_state=rnd))"
      ],
      "execution_count": 18,
      "outputs": [
        {
          "output_type": "stream",
          "name": "stdout",
          "text": [
            "SGDRegressor \n",
            "\n"
          ]
        },
        {
          "output_type": "stream",
          "name": "stderr",
          "text": [
            "/usr/local/lib/python3.7/dist-packages/sklearn/linear_model/_stochastic_gradient.py:1187: ConvergenceWarning: Maximum number of iteration reached before convergence. Consider increasing max_iter to improve the fit.\n",
            "  ConvergenceWarning)\n",
            "/usr/local/lib/python3.7/dist-packages/sklearn/linear_model/_stochastic_gradient.py:1187: ConvergenceWarning: Maximum number of iteration reached before convergence. Consider increasing max_iter to improve the fit.\n",
            "  ConvergenceWarning)\n",
            "/usr/local/lib/python3.7/dist-packages/sklearn/linear_model/_stochastic_gradient.py:1187: ConvergenceWarning: Maximum number of iteration reached before convergence. Consider increasing max_iter to improve the fit.\n",
            "  ConvergenceWarning)\n"
          ]
        },
        {
          "output_type": "stream",
          "name": "stdout",
          "text": [
            "Model params: \n",
            "SGDRegressor(alpha=0.0001, average=False, early_stopping=False, epsilon=0.1,\n",
            "             eta0=0.01, fit_intercept=True, l1_ratio=0.15,\n",
            "             learning_rate='invscaling', loss='squared_loss', max_iter=1000,\n",
            "             n_iter_no_change=5, penalty='l2', power_t=0.25, random_state=12345,\n",
            "             shuffle=True, tol=0.001, validation_fraction=0.1, verbose=0,\n",
            "             warm_start=False)\n",
            "Train_cv r2: 0.178\n",
            "Test results\n",
            "R2 score: 0.224 \n",
            "MSE: 1156.1 \n",
            "MAE: 15.4\n"
          ]
        },
        {
          "output_type": "stream",
          "name": "stderr",
          "text": [
            "/usr/local/lib/python3.7/dist-packages/sklearn/linear_model/_stochastic_gradient.py:1187: ConvergenceWarning: Maximum number of iteration reached before convergence. Consider increasing max_iter to improve the fit.\n",
            "  ConvergenceWarning)\n"
          ]
        }
      ]
    },
    {
      "cell_type": "code",
      "metadata": {
        "colab": {
          "base_uri": "https://localhost:8080/"
        },
        "id": "qjcAk1QTpWty",
        "outputId": "ffe802c4-bb6f-44ea-8563-14959bc2121a"
      },
      "source": [
        "simple_model('LGBMRegressor', LGBMRegressor(random_state=rnd))"
      ],
      "execution_count": 19,
      "outputs": [
        {
          "output_type": "stream",
          "name": "stdout",
          "text": [
            "LGBMRegressor \n",
            "\n",
            "Model params: \n",
            "LGBMRegressor(boosting_type='gbdt', class_weight=None, colsample_bytree=1.0,\n",
            "              importance_type='split', learning_rate=0.1, max_depth=-1,\n",
            "              min_child_samples=20, min_child_weight=0.001, min_split_gain=0.0,\n",
            "              n_estimators=100, n_jobs=-1, num_leaves=31, objective=None,\n",
            "              random_state=12345, reg_alpha=0.0, reg_lambda=0.0, silent=True,\n",
            "              subsample=1.0, subsample_for_bin=200000, subsample_freq=0)\n",
            "Train_cv r2: 0.168\n",
            "Test results\n",
            "R2 score: 0.207 \n",
            "MSE: 1182.2 \n",
            "MAE: 15.2\n"
          ]
        }
      ]
    },
    {
      "cell_type": "markdown",
      "metadata": {
        "id": "i_wNlZ5DrQ-Q"
      },
      "source": [
        "### Результаты моделей без оптимизации"
      ]
    },
    {
      "cell_type": "code",
      "metadata": {
        "colab": {
          "base_uri": "https://localhost:8080/",
          "height": 204
        },
        "id": "D_Jz8ZjHnu9u",
        "outputId": "fa2c926a-0c6b-4169-be7c-0f296d51d1f4"
      },
      "source": [
        "display(simple_results)"
      ],
      "execution_count": 20,
      "outputs": [
        {
          "output_type": "display_data",
          "data": {
            "text/html": [
              "<div>\n",
              "<style scoped>\n",
              "    .dataframe tbody tr th:only-of-type {\n",
              "        vertical-align: middle;\n",
              "    }\n",
              "\n",
              "    .dataframe tbody tr th {\n",
              "        vertical-align: top;\n",
              "    }\n",
              "\n",
              "    .dataframe thead th {\n",
              "        text-align: right;\n",
              "    }\n",
              "</style>\n",
              "<table border=\"1\" class=\"dataframe\">\n",
              "  <thead>\n",
              "    <tr style=\"text-align: right;\">\n",
              "      <th></th>\n",
              "      <th>Train_r2</th>\n",
              "      <th>Test_r2</th>\n",
              "      <th>Test_MSE</th>\n",
              "      <th>Test_MAE</th>\n",
              "    </tr>\n",
              "  </thead>\n",
              "  <tbody>\n",
              "    <tr>\n",
              "      <th>LinearRegression</th>\n",
              "      <td>0.176</td>\n",
              "      <td>0.179</td>\n",
              "      <td>1224.3</td>\n",
              "      <td>17.2</td>\n",
              "    </tr>\n",
              "    <tr>\n",
              "      <th>Lasso</th>\n",
              "      <td>-0.001</td>\n",
              "      <td>-0.000</td>\n",
              "      <td>1490.7</td>\n",
              "      <td>19.2</td>\n",
              "    </tr>\n",
              "    <tr>\n",
              "      <th>Ridge</th>\n",
              "      <td>0.200</td>\n",
              "      <td>0.245</td>\n",
              "      <td>1124.9</td>\n",
              "      <td>15.5</td>\n",
              "    </tr>\n",
              "    <tr>\n",
              "      <th>SGDRegressor</th>\n",
              "      <td>0.178</td>\n",
              "      <td>0.224</td>\n",
              "      <td>1156.1</td>\n",
              "      <td>15.4</td>\n",
              "    </tr>\n",
              "    <tr>\n",
              "      <th>LGBMRegressor</th>\n",
              "      <td>0.168</td>\n",
              "      <td>0.207</td>\n",
              "      <td>1182.2</td>\n",
              "      <td>15.2</td>\n",
              "    </tr>\n",
              "  </tbody>\n",
              "</table>\n",
              "</div>"
            ],
            "text/plain": [
              "                  Train_r2  Test_r2  Test_MSE  Test_MAE\n",
              "LinearRegression     0.176    0.179    1224.3      17.2\n",
              "Lasso               -0.001   -0.000    1490.7      19.2\n",
              "Ridge                0.200    0.245    1124.9      15.5\n",
              "SGDRegressor         0.178    0.224    1156.1      15.4\n",
              "LGBMRegressor        0.168    0.207    1182.2      15.2"
            ]
          },
          "metadata": {}
        }
      ]
    },
    {
      "cell_type": "markdown",
      "metadata": {
        "id": "EMS9gv3Cc0zp"
      },
      "source": [
        "## Random_search"
      ]
    },
    {
      "cell_type": "code",
      "metadata": {
        "id": "Mz1uFAm55rsE"
      },
      "source": [
        "search_results = pd.DataFrame(columns=['Test_r2', 'Test_MSE', 'Test_MAE'])\n",
        "\n",
        "def rand(model_name, model, params, early = False, iter = 10, scoring = 'neg_mean_squared_error', cv = 5, back = False, show = True, lemm = False, \n",
        "         X_train = tf_idf_train, y_train = y_train, X_test = tf_idf_test, y_test = y_test):\n",
        "  print(model_name, '\\n')\n",
        "  clf = RandomizedSearchCV(estimator = model, param_distributions = params, n_iter = iter, cv = cv, scoring = scoring, n_jobs = -1, random_state=rnd)\n",
        "  if early == True:\n",
        "    fit_params={'early_stopping_rounds':20, 'eval_metric' : scoring, 'eval_set' : [[X_test, y_test]]}\n",
        "    clf.fit(X_train, y_train, fit_params=fit_params)\n",
        "  else:\n",
        "    clf.fit(X_train, y_train)\n",
        "  if show==True:  \n",
        "    print('Parametrs of best Model', clf.best_estimator_)\n",
        "    best = clf.best_estimator_\n",
        "    y_pred = best.predict(X_test)\n",
        "    \n",
        "    r2 = r2_score(y_test, y_pred).round(3)\n",
        "    mae = mean_absolute_error(y_test, y_pred).round(1)\n",
        "    mse = mean_squared_error(y_test, y_pred).round(1)\n",
        "    print('Test results',\n",
        "        f'R2 score: {r2} \\nMSE: {mse} \\nMAE: {mae}', sep = '\\n')\n",
        "    \n",
        "    search_results.loc[model_name] = [r2, mse, mae]\n",
        "  if lemm == True:\n",
        "    models['lemm+tf-idf' + 'tuned' + model_name] = model\n",
        "  else:\n",
        "    models['tf-idf' + 'simple' + model_name] = model\n",
        "  if back == True:\n",
        "    return best"
      ],
      "execution_count": 21,
      "outputs": []
    },
    {
      "cell_type": "code",
      "metadata": {
        "id": "pTtiY96X3KCX"
      },
      "source": [
        "# Lasso(random_state=rnd).get_params()\n",
        "name_las = 'Lasso'\n",
        "model_las = Lasso(random_state=rnd)\n",
        "params_las = {\n",
        "    'alpha': list(np.arange(0.001, 1, 0.005)),\n",
        "    'selection': ['cyclic', 'random']\n",
        "}"
      ],
      "execution_count": 22,
      "outputs": []
    },
    {
      "cell_type": "code",
      "metadata": {
        "colab": {
          "base_uri": "https://localhost:8080/"
        },
        "id": "Hn5r89_Q6N8M",
        "outputId": "ddf92466-3d8a-4180-9463-a98a04625233"
      },
      "source": [
        "rand(name_las, model_las, params_las)"
      ],
      "execution_count": 23,
      "outputs": [
        {
          "output_type": "stream",
          "name": "stdout",
          "text": [
            "Lasso \n",
            "\n",
            "Parametrs of best Model Lasso(alpha=0.9460000000000001, copy_X=True, fit_intercept=True, max_iter=1000,\n",
            "      normalize=False, positive=False, precompute=False, random_state=12345,\n",
            "      selection='cyclic', tol=0.0001, warm_start=False)\n",
            "Test results\n",
            "R2 score: -0.0 \n",
            "MSE: 1490.7 \n",
            "MAE: 19.2\n"
          ]
        }
      ]
    },
    {
      "cell_type": "code",
      "metadata": {
        "id": "grS1tUEJ0b_4"
      },
      "source": [
        "name_ridge = 'Ridge'\n",
        "model_ridge = Ridge(random_state=rnd)\n",
        "params_ridge = {\n",
        "    'alpha': list(np.arange(0.001, 1, 0.005))\n",
        "    # 'solver': ['auto', 'svd', 'cholesky', 'lsqr', 'sparse_cg', 'sag', 'saga', 'lbfgs']\n",
        "}"
      ],
      "execution_count": 24,
      "outputs": []
    },
    {
      "cell_type": "code",
      "metadata": {
        "colab": {
          "base_uri": "https://localhost:8080/"
        },
        "id": "MjJ3kAk63mkM",
        "outputId": "93f1a1d2-dcf2-4f55-c1a7-842cb56173ef"
      },
      "source": [
        "rand(name_ridge, model_ridge, params_ridge)"
      ],
      "execution_count": 25,
      "outputs": [
        {
          "output_type": "stream",
          "name": "stdout",
          "text": [
            "Ridge \n",
            "\n",
            "Parametrs of best Model Ridge(alpha=0.676, copy_X=True, fit_intercept=True, max_iter=None,\n",
            "      normalize=False, random_state=12345, solver='auto', tol=0.001)\n",
            "Test results\n",
            "R2 score: 0.241 \n",
            "MSE: 1130.7 \n",
            "MAE: 15.8\n"
          ]
        }
      ]
    },
    {
      "cell_type": "code",
      "metadata": {
        "id": "0ZKZMFu-5u5z"
      },
      "source": [
        "name_sgd = 'SGDRegressor'\n",
        "model_sgd = SGDRegressor(random_state=rnd)\n",
        "params_sgd = {\n",
        "    'penalty' : ['l1', 'l2', 'elasticnet'],\n",
        "    'loss': ['huber', 'epsilon_insensitive', 'squared_epsilon_insensitive'],\n",
        "    'alpha': list(np.arange(0.00001, 0.1, 0.00005))\n",
        "}"
      ],
      "execution_count": 26,
      "outputs": []
    },
    {
      "cell_type": "code",
      "metadata": {
        "colab": {
          "base_uri": "https://localhost:8080/"
        },
        "id": "CjInd4w46gMo",
        "outputId": "af71005e-65e5-4021-a103-501f20d60dda"
      },
      "source": [
        "rand(name_sgd, model_sgd, params_sgd)"
      ],
      "execution_count": 27,
      "outputs": [
        {
          "output_type": "stream",
          "name": "stdout",
          "text": [
            "SGDRegressor \n",
            "\n",
            "Parametrs of best Model SGDRegressor(alpha=0.01206, average=False, early_stopping=False, epsilon=0.1,\n",
            "             eta0=0.01, fit_intercept=True, l1_ratio=0.15,\n",
            "             learning_rate='invscaling', loss='squared_epsilon_insensitive',\n",
            "             max_iter=1000, n_iter_no_change=5, penalty='elasticnet',\n",
            "             power_t=0.25, random_state=12345, shuffle=True, tol=0.001,\n",
            "             validation_fraction=0.1, verbose=0, warm_start=False)\n",
            "Test results\n",
            "R2 score: 0.061 \n",
            "MSE: 1399.3 \n",
            "MAE: 17.8\n"
          ]
        }
      ]
    },
    {
      "cell_type": "code",
      "metadata": {
        "id": "9toeej21_O8s"
      },
      "source": [
        "name_lgbm = 'LGBMRegressor'\n",
        "model_lgbm = LGBMRegressor(random_state = rnd)\n",
        "params_lgbm = {\n",
        "    'n_estimators' : list(range(100, 1001, 450)),\n",
        "    'depth' : [30, 15, 10, 5],\n",
        "    'learning_rate' : list(np.arange(0.001, 1, 0.005))\n",
        "}"
      ],
      "execution_count": 28,
      "outputs": []
    },
    {
      "cell_type": "code",
      "metadata": {
        "colab": {
          "base_uri": "https://localhost:8080/"
        },
        "id": "ICcjWDhw_QIj",
        "outputId": "7ae6f2af-d7e2-4bea-abef-bf54ae0b72dc"
      },
      "source": [
        "rand(name_lgbm, model_lgbm, params_lgbm, early = 'True')"
      ],
      "execution_count": 29,
      "outputs": [
        {
          "output_type": "stream",
          "name": "stdout",
          "text": [
            "LGBMRegressor \n",
            "\n",
            "Parametrs of best Model LGBMRegressor(boosting_type='gbdt', class_weight=None, colsample_bytree=1.0,\n",
            "              depth=10, importance_type='split', learning_rate=0.331,\n",
            "              max_depth=-1, min_child_samples=20, min_child_weight=0.001,\n",
            "              min_split_gain=0.0, n_estimators=100, n_jobs=-1, num_leaves=31,\n",
            "              objective=None, random_state=12345, reg_alpha=0.0, reg_lambda=0.0,\n",
            "              silent=True, subsample=1.0, subsample_for_bin=200000,\n",
            "              subsample_freq=0)\n",
            "Test results\n",
            "R2 score: 0.171 \n",
            "MSE: 1236.0 \n",
            "MAE: 16.0\n"
          ]
        }
      ]
    },
    {
      "cell_type": "markdown",
      "metadata": {
        "id": "OOTaogxd8WZJ"
      },
      "source": [
        "### Результаты моделей после radom_search"
      ]
    },
    {
      "cell_type": "code",
      "metadata": {
        "colab": {
          "base_uri": "https://localhost:8080/",
          "height": 173
        },
        "id": "5jQHXwY_8WZY",
        "outputId": "e87c0f90-5a1e-400c-cc49-59cc49af15dd"
      },
      "source": [
        "display(search_results)"
      ],
      "execution_count": 30,
      "outputs": [
        {
          "output_type": "display_data",
          "data": {
            "text/html": [
              "<div>\n",
              "<style scoped>\n",
              "    .dataframe tbody tr th:only-of-type {\n",
              "        vertical-align: middle;\n",
              "    }\n",
              "\n",
              "    .dataframe tbody tr th {\n",
              "        vertical-align: top;\n",
              "    }\n",
              "\n",
              "    .dataframe thead th {\n",
              "        text-align: right;\n",
              "    }\n",
              "</style>\n",
              "<table border=\"1\" class=\"dataframe\">\n",
              "  <thead>\n",
              "    <tr style=\"text-align: right;\">\n",
              "      <th></th>\n",
              "      <th>Test_r2</th>\n",
              "      <th>Test_MSE</th>\n",
              "      <th>Test_MAE</th>\n",
              "    </tr>\n",
              "  </thead>\n",
              "  <tbody>\n",
              "    <tr>\n",
              "      <th>Lasso</th>\n",
              "      <td>-0.000</td>\n",
              "      <td>1490.7</td>\n",
              "      <td>19.2</td>\n",
              "    </tr>\n",
              "    <tr>\n",
              "      <th>Ridge</th>\n",
              "      <td>0.241</td>\n",
              "      <td>1130.7</td>\n",
              "      <td>15.8</td>\n",
              "    </tr>\n",
              "    <tr>\n",
              "      <th>SGDRegressor</th>\n",
              "      <td>0.061</td>\n",
              "      <td>1399.3</td>\n",
              "      <td>17.8</td>\n",
              "    </tr>\n",
              "    <tr>\n",
              "      <th>LGBMRegressor</th>\n",
              "      <td>0.171</td>\n",
              "      <td>1236.0</td>\n",
              "      <td>16.0</td>\n",
              "    </tr>\n",
              "  </tbody>\n",
              "</table>\n",
              "</div>"
            ],
            "text/plain": [
              "               Test_r2  Test_MSE  Test_MAE\n",
              "Lasso           -0.000    1490.7      19.2\n",
              "Ridge            0.241    1130.7      15.8\n",
              "SGDRegressor     0.061    1399.3      17.8\n",
              "LGBMRegressor    0.171    1236.0      16.0"
            ]
          },
          "metadata": {}
        }
      ]
    },
    {
      "cell_type": "code",
      "metadata": {
        "id": "_yndoFcMLuc-"
      },
      "source": [
        "fin_tf = pd.concat([simple_results, search_results], keys=['simple', 'tuned'])"
      ],
      "execution_count": 31,
      "outputs": []
    },
    {
      "cell_type": "markdown",
      "metadata": {
        "id": "_MpHrTm4R7Cg"
      },
      "source": [
        "# lemm + tf-idf"
      ]
    },
    {
      "cell_type": "code",
      "metadata": {
        "id": "3scXKnR3wSze"
      },
      "source": [
        "X_train = train['description_lemm']\n",
        "X_test = test['description_lemm']\n",
        "y_train = train['price']\n",
        "y_test = test['price']"
      ],
      "execution_count": 32,
      "outputs": []
    },
    {
      "cell_type": "code",
      "metadata": {
        "colab": {
          "base_uri": "https://localhost:8080/"
        },
        "id": "fsRCCQeV8nrM",
        "outputId": "f947dfc5-971b-4371-d9cc-f9781b196f81"
      },
      "source": [
        "count_tf_idf2 = TfidfVectorizer(stop_words=stopwords, ngram_range=(1, 2)) \n",
        "\n",
        "tf_idf_train = count_tf_idf2.fit_transform(X_train)\n",
        "tf_idf_test = count_tf_idf2.transform(X_test)\n",
        "\n",
        "print('Размер train:', tf_idf_train.shape)\n",
        "print('Размер test:', tf_idf_test.shape)"
      ],
      "execution_count": 33,
      "outputs": [
        {
          "output_type": "stream",
          "name": "stdout",
          "text": [
            "Размер train: (15000, 175194)\n",
            "Размер test: (5000, 175194)\n"
          ]
        }
      ]
    },
    {
      "cell_type": "markdown",
      "metadata": {
        "id": "JZdVJtBf8nrN"
      },
      "source": [
        "## Просто модели"
      ]
    },
    {
      "cell_type": "code",
      "metadata": {
        "colab": {
          "base_uri": "https://localhost:8080/"
        },
        "id": "BTlutw7L8nrO",
        "outputId": "b3fdb4ed-e60b-4a57-f257-61b439b882ec"
      },
      "source": [
        "simple_model('LinearRegression', LinearRegression(n_jobs=-1), lemm = True)"
      ],
      "execution_count": 34,
      "outputs": [
        {
          "output_type": "stream",
          "name": "stdout",
          "text": [
            "LinearRegression \n",
            "\n",
            "Model params: \n",
            "LinearRegression(copy_X=True, fit_intercept=True, n_jobs=-1, normalize=False)\n",
            "Train_cv r2: 0.176\n",
            "Test results\n",
            "R2 score: 0.179 \n",
            "MSE: 1224.3 \n",
            "MAE: 17.2\n"
          ]
        }
      ]
    },
    {
      "cell_type": "code",
      "metadata": {
        "colab": {
          "base_uri": "https://localhost:8080/"
        },
        "id": "Cjo3-Gc18nrP",
        "outputId": "9eeaacab-d738-41de-f592-7a729168619f"
      },
      "source": [
        "simple_model('Lasso', Lasso(random_state=rnd), lemm = True)"
      ],
      "execution_count": 35,
      "outputs": [
        {
          "output_type": "stream",
          "name": "stdout",
          "text": [
            "Lasso \n",
            "\n",
            "Model params: \n",
            "Lasso(alpha=1.0, copy_X=True, fit_intercept=True, max_iter=1000,\n",
            "      normalize=False, positive=False, precompute=False, random_state=12345,\n",
            "      selection='cyclic', tol=0.0001, warm_start=False)\n",
            "Train_cv r2: -0.001\n",
            "Test results\n",
            "R2 score: -0.0 \n",
            "MSE: 1490.7 \n",
            "MAE: 19.2\n"
          ]
        }
      ]
    },
    {
      "cell_type": "code",
      "metadata": {
        "colab": {
          "base_uri": "https://localhost:8080/"
        },
        "id": "GKV2xF1h8nrP",
        "outputId": "5725ca96-7c5a-4639-bcc5-97973f2172e9"
      },
      "source": [
        "simple_model('Ridge', Ridge(random_state=rnd), lemm = True)"
      ],
      "execution_count": 36,
      "outputs": [
        {
          "output_type": "stream",
          "name": "stdout",
          "text": [
            "Ridge \n",
            "\n",
            "Model params: \n",
            "Ridge(alpha=1.0, copy_X=True, fit_intercept=True, max_iter=None,\n",
            "      normalize=False, random_state=12345, solver='auto', tol=0.001)\n",
            "Train_cv r2: 0.2\n",
            "Test results\n",
            "R2 score: 0.245 \n",
            "MSE: 1124.9 \n",
            "MAE: 15.5\n"
          ]
        }
      ]
    },
    {
      "cell_type": "code",
      "metadata": {
        "colab": {
          "base_uri": "https://localhost:8080/"
        },
        "id": "o1331x2l8nrQ",
        "outputId": "b09a98f8-880e-4760-8404-c3dffe94d469"
      },
      "source": [
        "simple_model('SGDRegressor', SGDRegressor(random_state=rnd), lemm = True)"
      ],
      "execution_count": 37,
      "outputs": [
        {
          "output_type": "stream",
          "name": "stdout",
          "text": [
            "SGDRegressor \n",
            "\n"
          ]
        },
        {
          "output_type": "stream",
          "name": "stderr",
          "text": [
            "/usr/local/lib/python3.7/dist-packages/sklearn/linear_model/_stochastic_gradient.py:1187: ConvergenceWarning: Maximum number of iteration reached before convergence. Consider increasing max_iter to improve the fit.\n",
            "  ConvergenceWarning)\n",
            "/usr/local/lib/python3.7/dist-packages/sklearn/linear_model/_stochastic_gradient.py:1187: ConvergenceWarning: Maximum number of iteration reached before convergence. Consider increasing max_iter to improve the fit.\n",
            "  ConvergenceWarning)\n",
            "/usr/local/lib/python3.7/dist-packages/sklearn/linear_model/_stochastic_gradient.py:1187: ConvergenceWarning: Maximum number of iteration reached before convergence. Consider increasing max_iter to improve the fit.\n",
            "  ConvergenceWarning)\n"
          ]
        },
        {
          "output_type": "stream",
          "name": "stdout",
          "text": [
            "Model params: \n",
            "SGDRegressor(alpha=0.0001, average=False, early_stopping=False, epsilon=0.1,\n",
            "             eta0=0.01, fit_intercept=True, l1_ratio=0.15,\n",
            "             learning_rate='invscaling', loss='squared_loss', max_iter=1000,\n",
            "             n_iter_no_change=5, penalty='l2', power_t=0.25, random_state=12345,\n",
            "             shuffle=True, tol=0.001, validation_fraction=0.1, verbose=0,\n",
            "             warm_start=False)\n",
            "Train_cv r2: 0.178\n",
            "Test results\n",
            "R2 score: 0.224 \n",
            "MSE: 1156.1 \n",
            "MAE: 15.4\n"
          ]
        },
        {
          "output_type": "stream",
          "name": "stderr",
          "text": [
            "/usr/local/lib/python3.7/dist-packages/sklearn/linear_model/_stochastic_gradient.py:1187: ConvergenceWarning: Maximum number of iteration reached before convergence. Consider increasing max_iter to improve the fit.\n",
            "  ConvergenceWarning)\n"
          ]
        }
      ]
    },
    {
      "cell_type": "code",
      "metadata": {
        "colab": {
          "base_uri": "https://localhost:8080/"
        },
        "id": "4p8r_2Il8nrR",
        "outputId": "b59df66c-634c-4758-face-a1588b70f94e"
      },
      "source": [
        "simple_model('LGBMRegressor', LGBMRegressor(random_state=rnd), lemm = True)"
      ],
      "execution_count": 38,
      "outputs": [
        {
          "output_type": "stream",
          "name": "stdout",
          "text": [
            "LGBMRegressor \n",
            "\n",
            "Model params: \n",
            "LGBMRegressor(boosting_type='gbdt', class_weight=None, colsample_bytree=1.0,\n",
            "              importance_type='split', learning_rate=0.1, max_depth=-1,\n",
            "              min_child_samples=20, min_child_weight=0.001, min_split_gain=0.0,\n",
            "              n_estimators=100, n_jobs=-1, num_leaves=31, objective=None,\n",
            "              random_state=12345, reg_alpha=0.0, reg_lambda=0.0, silent=True,\n",
            "              subsample=1.0, subsample_for_bin=200000, subsample_freq=0)\n",
            "Train_cv r2: 0.168\n",
            "Test results\n",
            "R2 score: 0.207 \n",
            "MSE: 1182.2 \n",
            "MAE: 15.2\n"
          ]
        }
      ]
    },
    {
      "cell_type": "markdown",
      "metadata": {
        "id": "G0dwDlpC8nrS"
      },
      "source": [
        "### Результаты моделей без оптимизации"
      ]
    },
    {
      "cell_type": "code",
      "metadata": {
        "colab": {
          "base_uri": "https://localhost:8080/",
          "height": 204
        },
        "id": "rXTNSCfi8nrS",
        "outputId": "2d8df894-7c26-4b73-818c-fa116f87e595"
      },
      "source": [
        "display(simple_results)"
      ],
      "execution_count": 39,
      "outputs": [
        {
          "output_type": "display_data",
          "data": {
            "text/html": [
              "<div>\n",
              "<style scoped>\n",
              "    .dataframe tbody tr th:only-of-type {\n",
              "        vertical-align: middle;\n",
              "    }\n",
              "\n",
              "    .dataframe tbody tr th {\n",
              "        vertical-align: top;\n",
              "    }\n",
              "\n",
              "    .dataframe thead th {\n",
              "        text-align: right;\n",
              "    }\n",
              "</style>\n",
              "<table border=\"1\" class=\"dataframe\">\n",
              "  <thead>\n",
              "    <tr style=\"text-align: right;\">\n",
              "      <th></th>\n",
              "      <th>Train_r2</th>\n",
              "      <th>Test_r2</th>\n",
              "      <th>Test_MSE</th>\n",
              "      <th>Test_MAE</th>\n",
              "    </tr>\n",
              "  </thead>\n",
              "  <tbody>\n",
              "    <tr>\n",
              "      <th>LinearRegression</th>\n",
              "      <td>0.176</td>\n",
              "      <td>0.179</td>\n",
              "      <td>1224.3</td>\n",
              "      <td>17.2</td>\n",
              "    </tr>\n",
              "    <tr>\n",
              "      <th>Lasso</th>\n",
              "      <td>-0.001</td>\n",
              "      <td>-0.000</td>\n",
              "      <td>1490.7</td>\n",
              "      <td>19.2</td>\n",
              "    </tr>\n",
              "    <tr>\n",
              "      <th>Ridge</th>\n",
              "      <td>0.200</td>\n",
              "      <td>0.245</td>\n",
              "      <td>1124.9</td>\n",
              "      <td>15.5</td>\n",
              "    </tr>\n",
              "    <tr>\n",
              "      <th>SGDRegressor</th>\n",
              "      <td>0.178</td>\n",
              "      <td>0.224</td>\n",
              "      <td>1156.1</td>\n",
              "      <td>15.4</td>\n",
              "    </tr>\n",
              "    <tr>\n",
              "      <th>LGBMRegressor</th>\n",
              "      <td>0.168</td>\n",
              "      <td>0.207</td>\n",
              "      <td>1182.2</td>\n",
              "      <td>15.2</td>\n",
              "    </tr>\n",
              "  </tbody>\n",
              "</table>\n",
              "</div>"
            ],
            "text/plain": [
              "                  Train_r2  Test_r2  Test_MSE  Test_MAE\n",
              "LinearRegression     0.176    0.179    1224.3      17.2\n",
              "Lasso               -0.001   -0.000    1490.7      19.2\n",
              "Ridge                0.200    0.245    1124.9      15.5\n",
              "SGDRegressor         0.178    0.224    1156.1      15.4\n",
              "LGBMRegressor        0.168    0.207    1182.2      15.2"
            ]
          },
          "metadata": {}
        }
      ]
    },
    {
      "cell_type": "markdown",
      "metadata": {
        "id": "-WeER8Gx8nrS"
      },
      "source": [
        "## Random_search"
      ]
    },
    {
      "cell_type": "code",
      "metadata": {
        "id": "Ygynf74N8nrT"
      },
      "source": [
        "name_las = 'Lasso'\n",
        "model_las = Lasso(random_state=rnd)\n",
        "params_las = {\n",
        "    'alpha': list(np.arange(0.001, 1, 0.005)),\n",
        "    'selection': ['cyclic', 'random']\n",
        "}"
      ],
      "execution_count": 40,
      "outputs": []
    },
    {
      "cell_type": "code",
      "metadata": {
        "colab": {
          "base_uri": "https://localhost:8080/"
        },
        "id": "8MmJy-wh8nrT",
        "outputId": "0aa5c666-30b5-4340-fe53-1991570da3b9"
      },
      "source": [
        "rand(name_las, model_las, params_las, lemm = True)"
      ],
      "execution_count": 41,
      "outputs": [
        {
          "output_type": "stream",
          "name": "stdout",
          "text": [
            "Lasso \n",
            "\n",
            "Parametrs of best Model Lasso(alpha=0.9460000000000001, copy_X=True, fit_intercept=True, max_iter=1000,\n",
            "      normalize=False, positive=False, precompute=False, random_state=12345,\n",
            "      selection='cyclic', tol=0.0001, warm_start=False)\n",
            "Test results\n",
            "R2 score: -0.0 \n",
            "MSE: 1490.7 \n",
            "MAE: 19.2\n"
          ]
        }
      ]
    },
    {
      "cell_type": "code",
      "metadata": {
        "id": "OdRRlTwr8nrU"
      },
      "source": [
        "name_ridge = 'Ridge'\n",
        "model_ridge = Ridge(random_state=rnd)\n",
        "params_ridge = {\n",
        "    'alpha': list(np.arange(0.001, 1, 0.005))\n",
        "}"
      ],
      "execution_count": 42,
      "outputs": []
    },
    {
      "cell_type": "code",
      "metadata": {
        "colab": {
          "base_uri": "https://localhost:8080/"
        },
        "id": "YffKznel8nrU",
        "outputId": "3d370b8e-7a8e-4d16-cffb-42d1ff18876e"
      },
      "source": [
        "rand(name_ridge, model_ridge, params_ridge, lemm = True)"
      ],
      "execution_count": 43,
      "outputs": [
        {
          "output_type": "stream",
          "name": "stdout",
          "text": [
            "Ridge \n",
            "\n",
            "Parametrs of best Model Ridge(alpha=0.676, copy_X=True, fit_intercept=True, max_iter=None,\n",
            "      normalize=False, random_state=12345, solver='auto', tol=0.001)\n",
            "Test results\n",
            "R2 score: 0.241 \n",
            "MSE: 1130.7 \n",
            "MAE: 15.8\n"
          ]
        }
      ]
    },
    {
      "cell_type": "code",
      "metadata": {
        "id": "-x5n4mbC8nrU"
      },
      "source": [
        "name_sgd = 'SGDRegressor'\n",
        "model_sgd = SGDRegressor(random_state=rnd)\n",
        "params_sgd = {\n",
        "    'penalty' : ['l1', 'l2', 'elasticnet'],\n",
        "    'loss': ['huber', 'epsilon_insensitive', 'squared_epsilon_insensitive'],\n",
        "    'alpha': list(np.arange(0.00001, 0.1, 0.00005))\n",
        "}"
      ],
      "execution_count": 44,
      "outputs": []
    },
    {
      "cell_type": "code",
      "metadata": {
        "colab": {
          "base_uri": "https://localhost:8080/"
        },
        "id": "RcxQi5o58nrV",
        "outputId": "00acb9c6-1834-4a9b-e39c-9389121b796a"
      },
      "source": [
        "rand(name_sgd, model_sgd, params_sgd, lemm = True)"
      ],
      "execution_count": 45,
      "outputs": [
        {
          "output_type": "stream",
          "name": "stdout",
          "text": [
            "SGDRegressor \n",
            "\n",
            "Parametrs of best Model SGDRegressor(alpha=0.01206, average=False, early_stopping=False, epsilon=0.1,\n",
            "             eta0=0.01, fit_intercept=True, l1_ratio=0.15,\n",
            "             learning_rate='invscaling', loss='squared_epsilon_insensitive',\n",
            "             max_iter=1000, n_iter_no_change=5, penalty='elasticnet',\n",
            "             power_t=0.25, random_state=12345, shuffle=True, tol=0.001,\n",
            "             validation_fraction=0.1, verbose=0, warm_start=False)\n",
            "Test results\n",
            "R2 score: 0.061 \n",
            "MSE: 1399.3 \n",
            "MAE: 17.8\n"
          ]
        }
      ]
    },
    {
      "cell_type": "code",
      "metadata": {
        "id": "aMVZ3Z9t8nrV"
      },
      "source": [
        "name_lgbm = 'LGBMRegressor'\n",
        "model_lgbm = LGBMRegressor(random_state = rnd)\n",
        "params_lgbm = {\n",
        "    'n_estimators' : list(range(100, 1001, 450)),\n",
        "    'depth' : [30, 15, 10, 5],\n",
        "    'learning_rate' : list(np.arange(0.001, 1, 0.005))\n",
        "}"
      ],
      "execution_count": 46,
      "outputs": []
    },
    {
      "cell_type": "code",
      "metadata": {
        "colab": {
          "base_uri": "https://localhost:8080/"
        },
        "id": "LLEmZWsg8nrV",
        "outputId": "1aa57dca-2bc3-4f9c-dd8b-25776a526753"
      },
      "source": [
        "rand(name_lgbm, model_lgbm, params_lgbm, early = 'True', lemm = True)"
      ],
      "execution_count": 47,
      "outputs": [
        {
          "output_type": "stream",
          "name": "stdout",
          "text": [
            "LGBMRegressor \n",
            "\n",
            "Parametrs of best Model LGBMRegressor(boosting_type='gbdt', class_weight=None, colsample_bytree=1.0,\n",
            "              depth=10, importance_type='split', learning_rate=0.331,\n",
            "              max_depth=-1, min_child_samples=20, min_child_weight=0.001,\n",
            "              min_split_gain=0.0, n_estimators=100, n_jobs=-1, num_leaves=31,\n",
            "              objective=None, random_state=12345, reg_alpha=0.0, reg_lambda=0.0,\n",
            "              silent=True, subsample=1.0, subsample_for_bin=200000,\n",
            "              subsample_freq=0)\n",
            "Test results\n",
            "R2 score: 0.171 \n",
            "MSE: 1236.0 \n",
            "MAE: 16.0\n"
          ]
        }
      ]
    },
    {
      "cell_type": "markdown",
      "metadata": {
        "id": "D6AUZ_Wh8nrV"
      },
      "source": [
        "### Результаты моделей после radom_search"
      ]
    },
    {
      "cell_type": "code",
      "metadata": {
        "colab": {
          "base_uri": "https://localhost:8080/",
          "height": 173
        },
        "id": "WwE9g4QGIs8z",
        "outputId": "15df00fe-0c60-4f40-bb70-42fd0bef9f7b"
      },
      "source": [
        "display(search_results)"
      ],
      "execution_count": 48,
      "outputs": [
        {
          "output_type": "display_data",
          "data": {
            "text/html": [
              "<div>\n",
              "<style scoped>\n",
              "    .dataframe tbody tr th:only-of-type {\n",
              "        vertical-align: middle;\n",
              "    }\n",
              "\n",
              "    .dataframe tbody tr th {\n",
              "        vertical-align: top;\n",
              "    }\n",
              "\n",
              "    .dataframe thead th {\n",
              "        text-align: right;\n",
              "    }\n",
              "</style>\n",
              "<table border=\"1\" class=\"dataframe\">\n",
              "  <thead>\n",
              "    <tr style=\"text-align: right;\">\n",
              "      <th></th>\n",
              "      <th>Test_r2</th>\n",
              "      <th>Test_MSE</th>\n",
              "      <th>Test_MAE</th>\n",
              "    </tr>\n",
              "  </thead>\n",
              "  <tbody>\n",
              "    <tr>\n",
              "      <th>Lasso</th>\n",
              "      <td>-0.000</td>\n",
              "      <td>1490.7</td>\n",
              "      <td>19.2</td>\n",
              "    </tr>\n",
              "    <tr>\n",
              "      <th>Ridge</th>\n",
              "      <td>0.241</td>\n",
              "      <td>1130.7</td>\n",
              "      <td>15.8</td>\n",
              "    </tr>\n",
              "    <tr>\n",
              "      <th>SGDRegressor</th>\n",
              "      <td>0.061</td>\n",
              "      <td>1399.3</td>\n",
              "      <td>17.8</td>\n",
              "    </tr>\n",
              "    <tr>\n",
              "      <th>LGBMRegressor</th>\n",
              "      <td>0.171</td>\n",
              "      <td>1236.0</td>\n",
              "      <td>16.0</td>\n",
              "    </tr>\n",
              "  </tbody>\n",
              "</table>\n",
              "</div>"
            ],
            "text/plain": [
              "               Test_r2  Test_MSE  Test_MAE\n",
              "Lasso           -0.000    1490.7      19.2\n",
              "Ridge            0.241    1130.7      15.8\n",
              "SGDRegressor     0.061    1399.3      17.8\n",
              "LGBMRegressor    0.171    1236.0      16.0"
            ]
          },
          "metadata": {}
        }
      ]
    },
    {
      "cell_type": "code",
      "metadata": {
        "id": "m-JYEeHnL4ww"
      },
      "source": [
        "fin_lemm_tf = pd.concat([simple_results, search_results], keys=['simple', 'tuned'])"
      ],
      "execution_count": 49,
      "outputs": []
    },
    {
      "cell_type": "markdown",
      "metadata": {
        "id": "GR32IuBrF8G1"
      },
      "source": [
        "#Вывод"
      ]
    },
    {
      "cell_type": "markdown",
      "metadata": {
        "id": "fSQbU14hMYbS"
      },
      "source": [
        "Итак, мы получили результаты по моделям с TF-IDF в простом варианте и после Random-search (настройки гиперпараметров), а также модели с лемматизацией + TF-IDF в простом варианте и после Random-search. Посмотрим на результаты, собранные воедино"
      ]
    },
    {
      "cell_type": "code",
      "metadata": {
        "id": "TdxAVnJWKsjw"
      },
      "source": [
        "fin = pd.concat([fin_tf, fin_lemm_tf], keys=['tf-idf', 'lemm+tf-idf'])"
      ],
      "execution_count": 50,
      "outputs": []
    },
    {
      "cell_type": "code",
      "metadata": {
        "colab": {
          "base_uri": "https://localhost:8080/",
          "height": 607
        },
        "id": "e6bfZTQuK7VU",
        "outputId": "e368d525-888a-4656-9310-f74306ce8a32"
      },
      "source": [
        "fin.sort_values('Test_MSE')"
      ],
      "execution_count": 51,
      "outputs": [
        {
          "output_type": "execute_result",
          "data": {
            "text/html": [
              "<div>\n",
              "<style scoped>\n",
              "    .dataframe tbody tr th:only-of-type {\n",
              "        vertical-align: middle;\n",
              "    }\n",
              "\n",
              "    .dataframe tbody tr th {\n",
              "        vertical-align: top;\n",
              "    }\n",
              "\n",
              "    .dataframe thead th {\n",
              "        text-align: right;\n",
              "    }\n",
              "</style>\n",
              "<table border=\"1\" class=\"dataframe\">\n",
              "  <thead>\n",
              "    <tr style=\"text-align: right;\">\n",
              "      <th></th>\n",
              "      <th></th>\n",
              "      <th></th>\n",
              "      <th>Train_r2</th>\n",
              "      <th>Test_r2</th>\n",
              "      <th>Test_MSE</th>\n",
              "      <th>Test_MAE</th>\n",
              "    </tr>\n",
              "  </thead>\n",
              "  <tbody>\n",
              "    <tr>\n",
              "      <th>tf-idf</th>\n",
              "      <th>simple</th>\n",
              "      <th>Ridge</th>\n",
              "      <td>0.200</td>\n",
              "      <td>0.245</td>\n",
              "      <td>1124.9</td>\n",
              "      <td>15.5</td>\n",
              "    </tr>\n",
              "    <tr>\n",
              "      <th rowspan=\"2\" valign=\"top\">lemm+tf-idf</th>\n",
              "      <th>simple</th>\n",
              "      <th>Ridge</th>\n",
              "      <td>0.200</td>\n",
              "      <td>0.245</td>\n",
              "      <td>1124.9</td>\n",
              "      <td>15.5</td>\n",
              "    </tr>\n",
              "    <tr>\n",
              "      <th>tuned</th>\n",
              "      <th>Ridge</th>\n",
              "      <td>NaN</td>\n",
              "      <td>0.241</td>\n",
              "      <td>1130.7</td>\n",
              "      <td>15.8</td>\n",
              "    </tr>\n",
              "    <tr>\n",
              "      <th rowspan=\"2\" valign=\"top\">tf-idf</th>\n",
              "      <th>tuned</th>\n",
              "      <th>Ridge</th>\n",
              "      <td>NaN</td>\n",
              "      <td>0.241</td>\n",
              "      <td>1130.7</td>\n",
              "      <td>15.8</td>\n",
              "    </tr>\n",
              "    <tr>\n",
              "      <th>simple</th>\n",
              "      <th>SGDRegressor</th>\n",
              "      <td>0.178</td>\n",
              "      <td>0.224</td>\n",
              "      <td>1156.1</td>\n",
              "      <td>15.4</td>\n",
              "    </tr>\n",
              "    <tr>\n",
              "      <th>lemm+tf-idf</th>\n",
              "      <th>simple</th>\n",
              "      <th>SGDRegressor</th>\n",
              "      <td>0.178</td>\n",
              "      <td>0.224</td>\n",
              "      <td>1156.1</td>\n",
              "      <td>15.4</td>\n",
              "    </tr>\n",
              "    <tr>\n",
              "      <th>tf-idf</th>\n",
              "      <th>simple</th>\n",
              "      <th>LGBMRegressor</th>\n",
              "      <td>0.168</td>\n",
              "      <td>0.207</td>\n",
              "      <td>1182.2</td>\n",
              "      <td>15.2</td>\n",
              "    </tr>\n",
              "    <tr>\n",
              "      <th>lemm+tf-idf</th>\n",
              "      <th>simple</th>\n",
              "      <th>LGBMRegressor</th>\n",
              "      <td>0.168</td>\n",
              "      <td>0.207</td>\n",
              "      <td>1182.2</td>\n",
              "      <td>15.2</td>\n",
              "    </tr>\n",
              "    <tr>\n",
              "      <th>tf-idf</th>\n",
              "      <th>simple</th>\n",
              "      <th>LinearRegression</th>\n",
              "      <td>0.176</td>\n",
              "      <td>0.179</td>\n",
              "      <td>1224.3</td>\n",
              "      <td>17.2</td>\n",
              "    </tr>\n",
              "    <tr>\n",
              "      <th>lemm+tf-idf</th>\n",
              "      <th>simple</th>\n",
              "      <th>LinearRegression</th>\n",
              "      <td>0.176</td>\n",
              "      <td>0.179</td>\n",
              "      <td>1224.3</td>\n",
              "      <td>17.2</td>\n",
              "    </tr>\n",
              "    <tr>\n",
              "      <th>tf-idf</th>\n",
              "      <th>tuned</th>\n",
              "      <th>LGBMRegressor</th>\n",
              "      <td>NaN</td>\n",
              "      <td>0.171</td>\n",
              "      <td>1236.0</td>\n",
              "      <td>16.0</td>\n",
              "    </tr>\n",
              "    <tr>\n",
              "      <th rowspan=\"2\" valign=\"top\">lemm+tf-idf</th>\n",
              "      <th rowspan=\"2\" valign=\"top\">tuned</th>\n",
              "      <th>LGBMRegressor</th>\n",
              "      <td>NaN</td>\n",
              "      <td>0.171</td>\n",
              "      <td>1236.0</td>\n",
              "      <td>16.0</td>\n",
              "    </tr>\n",
              "    <tr>\n",
              "      <th>SGDRegressor</th>\n",
              "      <td>NaN</td>\n",
              "      <td>0.061</td>\n",
              "      <td>1399.3</td>\n",
              "      <td>17.8</td>\n",
              "    </tr>\n",
              "    <tr>\n",
              "      <th rowspan=\"2\" valign=\"top\">tf-idf</th>\n",
              "      <th rowspan=\"2\" valign=\"top\">tuned</th>\n",
              "      <th>SGDRegressor</th>\n",
              "      <td>NaN</td>\n",
              "      <td>0.061</td>\n",
              "      <td>1399.3</td>\n",
              "      <td>17.8</td>\n",
              "    </tr>\n",
              "    <tr>\n",
              "      <th>Lasso</th>\n",
              "      <td>NaN</td>\n",
              "      <td>-0.000</td>\n",
              "      <td>1490.7</td>\n",
              "      <td>19.2</td>\n",
              "    </tr>\n",
              "    <tr>\n",
              "      <th>lemm+tf-idf</th>\n",
              "      <th>tuned</th>\n",
              "      <th>Lasso</th>\n",
              "      <td>NaN</td>\n",
              "      <td>-0.000</td>\n",
              "      <td>1490.7</td>\n",
              "      <td>19.2</td>\n",
              "    </tr>\n",
              "    <tr>\n",
              "      <th>tf-idf</th>\n",
              "      <th>simple</th>\n",
              "      <th>Lasso</th>\n",
              "      <td>-0.001</td>\n",
              "      <td>-0.000</td>\n",
              "      <td>1490.7</td>\n",
              "      <td>19.2</td>\n",
              "    </tr>\n",
              "    <tr>\n",
              "      <th>lemm+tf-idf</th>\n",
              "      <th>simple</th>\n",
              "      <th>Lasso</th>\n",
              "      <td>-0.001</td>\n",
              "      <td>-0.000</td>\n",
              "      <td>1490.7</td>\n",
              "      <td>19.2</td>\n",
              "    </tr>\n",
              "  </tbody>\n",
              "</table>\n",
              "</div>"
            ],
            "text/plain": [
              "                                     Train_r2  Test_r2  Test_MSE  Test_MAE\n",
              "tf-idf      simple Ridge                0.200    0.245    1124.9      15.5\n",
              "lemm+tf-idf simple Ridge                0.200    0.245    1124.9      15.5\n",
              "            tuned  Ridge                  NaN    0.241    1130.7      15.8\n",
              "tf-idf      tuned  Ridge                  NaN    0.241    1130.7      15.8\n",
              "            simple SGDRegressor         0.178    0.224    1156.1      15.4\n",
              "lemm+tf-idf simple SGDRegressor         0.178    0.224    1156.1      15.4\n",
              "tf-idf      simple LGBMRegressor        0.168    0.207    1182.2      15.2\n",
              "lemm+tf-idf simple LGBMRegressor        0.168    0.207    1182.2      15.2\n",
              "tf-idf      simple LinearRegression     0.176    0.179    1224.3      17.2\n",
              "lemm+tf-idf simple LinearRegression     0.176    0.179    1224.3      17.2\n",
              "tf-idf      tuned  LGBMRegressor          NaN    0.171    1236.0      16.0\n",
              "lemm+tf-idf tuned  LGBMRegressor          NaN    0.171    1236.0      16.0\n",
              "                   SGDRegressor           NaN    0.061    1399.3      17.8\n",
              "tf-idf      tuned  SGDRegressor           NaN    0.061    1399.3      17.8\n",
              "                   Lasso                  NaN   -0.000    1490.7      19.2\n",
              "lemm+tf-idf tuned  Lasso                  NaN   -0.000    1490.7      19.2\n",
              "tf-idf      simple Lasso               -0.001   -0.000    1490.7      19.2\n",
              "lemm+tf-idf simple Lasso               -0.001   -0.000    1490.7      19.2"
            ]
          },
          "metadata": {},
          "execution_count": 51
        }
      ]
    },
    {
      "cell_type": "markdown",
      "metadata": {
        "id": "g0VZ2sPKf7Oi"
      },
      "source": [
        "Как мы видим, лучше всего отработала модель Ridge: tf-idf без оптимизации параметров.\n",
        "\n",
        "Мы можем обратиться к ней из списка сохраненных моделей.\n",
        "\n",
        "(кроме того видно, что по MAE отработала лучше даже LightGBM, но ввиду нашей основной метрики MSE - опираемся на Ridge"
      ]
    },
    {
      "cell_type": "code",
      "metadata": {
        "id": "uP675YC-f54o"
      },
      "source": [
        "best = models[fin.head(1).index.tolist()[0]]"
      ],
      "execution_count": 52,
      "outputs": []
    },
    {
      "cell_type": "markdown",
      "metadata": {
        "id": "F3D6hNXkPvmF"
      },
      "source": [
        "Проба на случайных сэмплах из сета"
      ]
    },
    {
      "cell_type": "code",
      "metadata": {
        "colab": {
          "base_uri": "https://localhost:8080/"
        },
        "id": "mF1O75izPxot",
        "outputId": "079bf455-91a5-4090-db24-94e8c873ad39"
      },
      "source": [
        "testik_df = df.sample(1000)\n",
        "\n",
        "testik_df['pred_price'] = best.predict(count_tf_idf1.transform(testik_df.description))\n",
        "\n",
        "print(f'Model: {(fin.head(1).index.tolist()[0])} \\nMSE: {mean_squared_error(testik_df[\"price\"], testik_df[\"pred_price\"]).round(1)}')"
      ],
      "execution_count": 53,
      "outputs": [
        {
          "output_type": "stream",
          "name": "stdout",
          "text": [
            "Model: ('tf-idf', 'simple', 'LinearRegression') \n",
            "MSE: 999.4\n"
          ]
        }
      ]
    },
    {
      "cell_type": "markdown",
      "metadata": {
        "id": "HBsThdyyP5kd"
      },
      "source": [
        "Проба на случайном тексте"
      ]
    },
    {
      "cell_type": "code",
      "metadata": {
        "colab": {
          "base_uri": "https://localhost:8080/"
        },
        "id": "dQlCdftNXIIJ",
        "outputId": "6a24c1e1-b0fa-4951-c758-5252ab868c5c"
      },
      "source": [
        "text = ['Perfect summer wine. Light acidity combined with a bit of sweetness and fresh fruit aroma. Some effervescence on top.']\n",
        "price = best.predict(count_tf_idf1.transform(text))\n",
        "\n",
        "print(f'Description: {text[0]} \\nPrice: {price.round(1)[0]}')"
      ],
      "execution_count": 54,
      "outputs": [
        {
          "output_type": "stream",
          "name": "stdout",
          "text": [
            "Description: Perfect summer wine. Light acidity combined with a bit of sweetness and fresh fruit aroma. Some effervescence on top. \n",
            "Price: 33.7\n"
          ]
        }
      ]
    },
    {
      "cell_type": "code",
      "metadata": {
        "colab": {
          "base_uri": "https://localhost:8080/"
        },
        "id": "zO9ZQRMqmLkq",
        "outputId": "d8e43cba-7e49-4f51-8c72-780ff5e492a6"
      },
      "source": [
        "text = ['water']\n",
        "\n",
        "price = best.predict(count_tf_idf1.transform(text))\n",
        "\n",
        "print(f'Description: {text[0]} \\nPrice: {price.round(1)[0]}')"
      ],
      "execution_count": 55,
      "outputs": [
        {
          "output_type": "stream",
          "name": "stdout",
          "text": [
            "Description: water \n",
            "Price: 17.9\n"
          ]
        }
      ]
    },
    {
      "cell_type": "markdown",
      "metadata": {
        "id": "JjkXsUOym-6Q"
      },
      "source": [
        "**Главный вывод:** Вода дешевле, чем какое-то летнее вино :)"
      ]
    },
    {
      "cell_type": "markdown",
      "metadata": {
        "id": "MF5e0j_OnSy-"
      },
      "source": [
        "Наша модель натренирована и для дальнейшего использования нам надо сохранить только её и преобразователь (они натрениварованы на наших данных) и мы уже можем прикручивать их к какому-то сайту/сервису. Сделать можно с помощью библиотеки pickle"
      ]
    },
    {
      "cell_type": "code",
      "metadata": {
        "id": "X2VJedsinkpX"
      },
      "source": [
        "import pickle"
      ],
      "execution_count": 56,
      "outputs": []
    },
    {
      "cell_type": "code",
      "metadata": {
        "id": "dHlw6FBmnnYF"
      },
      "source": [
        "with open(\"wineprice.model\", \"wb\") as output_file:\n",
        "  pickle.dump(best, output_file)\n",
        "\n",
        "pickle.dump(count_tf_idf1, open(\"count_tf_idf.model\", \"wb\"))\n"
      ],
      "execution_count": 57,
      "outputs": []
    },
    {
      "cell_type": "code",
      "metadata": {
        "id": "9eixAeEcpiGl"
      },
      "source": [
        ""
      ],
      "execution_count": 57,
      "outputs": []
    }
  ]
}